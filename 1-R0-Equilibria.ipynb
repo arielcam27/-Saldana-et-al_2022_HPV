{
 "cells": [
  {
   "cell_type": "markdown",
   "metadata": {},
   "source": [
    "# Code for the paper Saldaña, Camacho, Villavicencio, Velasco"
   ]
  },
  {
   "cell_type": "markdown",
   "metadata": {},
   "source": [
    "Model dynamics, equilibrium points and basic reproduction number."
   ]
  },
  {
   "cell_type": "markdown",
   "metadata": {},
   "source": [
    "First, some notation to reduce the code size.\n",
    "\n",
    "State variables\n",
    "---\n",
    "$x01 = S_f\\\\\n",
    "x02 = S_m\\\\\n",
    "x03 = V_f\\\\\n",
    "x04 = V_m\\\\\n",
    "x05 = A_f\\\\\n",
    "x06 = A_m\\\\\n",
    "x07 = I_f\\\\\n",
    "x08 = I_m\\\\\n",
    "x09 = P_f\\\\\n",
    "x10 = P_m\\\\\n",
    "x11 = C_f\\\\\n",
    "x12 = C_m$\n",
    "\n",
    "Parameters\n",
    "---\n",
    "$p01 = \\Lambda_f\\\\\n",
    "p02 = \\Lambda_m\\\\\n",
    "p03 = \\mu_f\\\\\n",
    "p04 = \\mu_m\\\\\n",
    "p05 = q_A^f\\\\\n",
    "p06 = q_A^m\\\\\n",
    "p07 = k_A^f\\\\\n",
    "p08 = k_A^m\\\\\n",
    "p09 = q_I^f\\\\\n",
    "p10 = q_I^m\\\\\n",
    "p11 = k_I^f\\\\\n",
    "p12 = k_I^m\\\\\n",
    "p13 = q_P^f\\\\\n",
    "p14 = q_P^m\\\\\n",
    "p15 = k_P^f\\\\\n",
    "p16 = k_P^m\\\\\n",
    "p17 = \\theta_f\\\\\n",
    "p18 = \\theta_m\\\\\n",
    "p19 = \\delta_f\\\\\n",
    "p20 = \\delta_m\\\\\n",
    "p21 = \\beta_A^f\\\\\n",
    "p22 = \\beta_A^m\\\\\n",
    "p23 = \\beta_I^f\\\\\n",
    "p24 = \\beta_I^m$\n",
    "\n",
    "aux funs\n",
    "---\n",
    "$f01 = \\lambda_f = (\\beta_A^f*A_f + \\beta_I^f*I_f)/N_f,\\\\\n",
    "f02 = \\lambda_m = (\\beta_A^m*A_m + \\beta_I^m*I_m)/N_m$\n",
    "\n",
    "Control variables\n",
    "---\n",
    "$u1 = w_f\\\\\n",
    "u2 = w_m\\\\\n",
    "u3 = u_f\\\\\n",
    "u4 = u_m$"
   ]
  },
  {
   "cell_type": "markdown",
   "metadata": {},
   "source": [
    "Let us now define the model equations"
   ]
  },
  {
   "cell_type": "code",
   "execution_count": 1,
   "metadata": {},
   "outputs": [],
   "source": [
    "import numpy as np\n",
    "from scipy.integrate import odeint, ode\n",
    "from matplotlib import pyplot as plt\n",
    "\n",
    "# Model\n",
    "def model(State, t, Control):\n",
    "    # State variables\n",
    "    x01 = State[0]\n",
    "    x02 = State[1]\n",
    "    x03 = State[2]\n",
    "    x04 = State[3]\n",
    "    x05 = State[4]\n",
    "    x06 = State[5]\n",
    "    x07 = State[6]\n",
    "    x08 = State[7]\n",
    "    x09 = State[8]\n",
    "    x10 = State[9]\n",
    "    x11 = State[10]\n",
    "    x12 = State[11]\n",
    "    \n",
    "    # Control variables\n",
    "    u1 = Control[0]\n",
    "    u2 = Control[1]\n",
    "    u3 = Control[2]\n",
    "    u4 = Control[3]\n",
    "    \n",
    "    # Auxiliar\n",
    "    Nf = x01 + x03 + x05 + x07 + x09 + x11\n",
    "    Nm = x02 + x04 + x06 + x08 + x10 + x12\n",
    "    f01 = p21*x05/Nf + p23*x07/Nf\n",
    "    f02 = p22*x06/Nm + p24*x08/Nm\n",
    "    \n",
    "    # ODEs\n",
    "    ode1 = (1-u1)*p01 - (f02+u3+p03)*x01 + p05*p07*x05 + p09*p11*x07 + p13*p15*x09 + p17*x03\n",
    "\n",
    "    ode2 = (1-u2)*p02 - (f01+u4+p04)*x02 + p06*p08*x06 + p10*p12*x08 + p14*p16*x10 + p18*x04\n",
    "\n",
    "    ode3 = u1*p01 + u3*x01 - (p03+p17)*x03\n",
    "\n",
    "    ode4 = u2*p02 + u4*x02 - (p04+p18)*x04\n",
    "\n",
    "    ode5 = f02*x01 - (p07+p03)*x05\n",
    "\n",
    "    ode6 = f01*x02 - (p08+p04)*x06\n",
    "\n",
    "    ode7 = (1-p05)*p07*x05 - (p11+p03)*x07\n",
    "\n",
    "    ode8 = (1-p06)*p08*x06 - (p12+p04)*x08\n",
    "\n",
    "    ode9 = (1-p09)*p11*x07 - (p15+p03)*x09\n",
    "\n",
    "    ode10 = (1-p10)*p12*x08 - (p16+p04)*x10\n",
    "\n",
    "    ode11 = (1-p13)*p15*x09 - (p19+p03)*x11\n",
    "\n",
    "    ode12 = (1-p14)*p16*x10 - (p20+p04)*x12\n",
    "    \n",
    "    odes = np.array([ode1, ode2, ode3,\n",
    "                     ode4, ode5, ode6,\n",
    "                     ode7, ode8, ode9,\n",
    "                     ode10, ode11, ode12])\n",
    "    return odes"
   ]
  },
  {
   "cell_type": "markdown",
   "metadata": {},
   "source": [
    "Now we will fix the initial conditions."
   ]
  },
  {
   "cell_type": "code",
   "execution_count": 16,
   "metadata": {},
   "outputs": [],
   "source": [
    "# ODE parameters\n",
    "Nf0 = 3352419\n",
    "Nm0 = 3094541\n",
    "# Total: 6 * 10^6\n",
    "\n",
    "p01 = 17097 # Lambda_f\n",
    "p02 = 15782 # Lambda_m\n",
    "p03 = 1/50 # mu_f\n",
    "p04 = 1/50 # mu_m\n",
    "p05 = 0.7 # q_A^f\n",
    "p06 = 0.7 # q_A^m\n",
    "p07 = 1 # k_A^f\n",
    "p08 = 1 # k_A^m\n",
    "p09 = 0.9 # q_I^f\n",
    "p10 = 0.9 # q_I^m\n",
    "p11 = 1/0.81 # k_I^f\n",
    "p12 = 1/0.62 # k_I^m\n",
    "p13 = 0.4 # q_P^f\n",
    "p14 = 0.9 # q_P^m\n",
    "p15 = 1/15 # k_P^f\n",
    "p16 = 1/15 # k_P^m\n",
    "p17 = 1/20 # theta_f\n",
    "p18 = 1/20 # theta_m\n",
    "p19 = 0.001 # delta_f\n",
    "p20 = 0.0005 # delta_m\n",
    "p21 = 2.0 # beta_A^f\n",
    "p22 = 2.0 # beta_A^m\n",
    "p23 = 4.0 # beta_I^f\n",
    "p24 = 4.0 # beta_I^m\n",
    "\n",
    "# Temporal parameters\n",
    "T  = 100.                  # Final Time\n",
    "NN = int(10*T)            # sub-intervals numbers\n",
    "t  = np.linspace(0, T, NN) # Interval [0,T] with N points\n",
    "\n",
    "# Initial condition sets\n",
    "Vf0 = 0.2*Nf0\n",
    "Vm0 = 0\n",
    "If0 = 0.01*Nf0\n",
    "Im0 = 0.01*Nm0\n",
    "Af0 = 0.05*Nf0\n",
    "Am0 = 0.05*Nm0\n",
    "Pf0 = 0.001*Nf0\n",
    "Pm0 = 0.001*Nm0\n",
    "Cf0 = 0.001*Nf0\n",
    "Cm0 = 0.001*Nm0\n",
    "Sf0 = Nf0-Vf0-Af0-If0-Pf0-Cf0\n",
    "Sm0 = Nm0-Vm0-Am0-Im0-Pm0-Cm0\n",
    "\n",
    "State0 = np.array([Sf0, Sm0, Vf0, Vm0, \n",
    "                   Af0, Am0, If0, Im0, \n",
    "                   Pf0, Pm0, Cf0, Cm0])\n",
    "\n",
    "u1, u2, u3, u4 = 0., 0., 0., 0.\n",
    "Control0 = np.array([u1, u2, u3, u4])"
   ]
  },
  {
   "cell_type": "markdown",
   "metadata": {},
   "source": [
    "Finally we will solve model using odeint and plot the solution."
   ]
  },
  {
   "cell_type": "code",
   "execution_count": 21,
   "metadata": {},
   "outputs": [
    {
     "data": {
      "image/png": "[encoded data removed]",
      "text/plain": [
       "<Figure size 432x288 with 1 Axes>"
      ]
     },
     "metadata": {
      "needs_background": "light"
     },
     "output_type": "display_data"
    },
    {
     "data": {
      "image/png": "[encoded data removed]",
      "text/plain": [
       "<Figure size 432x288 with 1 Axes>"
      ]
     },
     "metadata": {
      "needs_background": "light"
     },
     "output_type": "display_data"
    }
   ],
   "source": [
    "#solution\n",
    "sol = odeint(model, State0, t, args=(Control0,))\n",
    "\n",
    "#plot females\n",
    "plt.figure()\n",
    "plt.plot(t, sol[:, 4], 'darkred', label='$A_{f}$')\n",
    "plt.plot(t, sol[:, 6], 'navy', label='$I_{f}$')\n",
    "plt.plot(t, sol[:, 8], 'darkgreen', label='$P_{f}$')\n",
    "plt.plot(t, sol[:, 10], 'darkorange', label='$C_{f}$')\n",
    "plt.legend(loc='best')\n",
    "plt.xlabel('Time (years)')\n",
    "plt.ylabel('Individuals')\n",
    "plt.grid()\n",
    "plt.show()\n",
    "\n",
    "#plot males\n",
    "plt.figure()\n",
    "plt.plot(t, sol[:, 5], 'darkred', label='$A_{m}$')\n",
    "plt.plot(t, sol[:, 7], 'navy', label='$I_{m}$')\n",
    "plt.plot(t, sol[:, 9], 'darkgreen', label='$P_{m}$')\n",
    "plt.plot(t, sol[:, 11], 'darkorange', label='$C_{m}$')\n",
    "plt.legend(loc='best')\n",
    "plt.xlabel('Time (years)')\n",
    "plt.ylabel('Individuals')\n",
    "plt.grid()\n",
    "plt.show()"
   ]
  },
  {
   "cell_type": "markdown",
   "metadata": {},
   "source": [
    "Disease-free equilibria:\n",
    "$\n",
    "\\begin{eqnarray}\n",
    "S^*_{{f}}={\\frac {\\Lambda_{{f}} \\left(  \\left( 1-w_{{f}} \\right) \\mu_{{f\n",
    "}}+\\theta_{{f}} \\right) }{\\mu_{{f}} \\left( u_{{f}}+\\mu_{{f}}+\\theta_{{\n",
    "f}} \\right) }},\\quad\n",
    "S^*_{{m}}={\\frac {\\Lambda_{{m}} \\left(  \\left( 1-w_{{m}} \\right) \\mu_{{m\n",
    "}}+\\theta_{{m}} \\right) }{\\mu_{{m}} \\left( u_{{m}}+\\mu_{{m}}+\\theta_{{\n",
    "m}} \\right) }}\\\\\n",
    "V^*_{{f}}={\\frac {\\Lambda_{{f}} \\left( u_{{f}}+\\mu_{{f}}w_{{f}} \\right) \n",
    "}{\\mu_{{f}} \\left( u_{{f}}+\\mu_{{f}}+\\theta_{{f}} \\right) }},\\quad\n",
    "V^*_{{m}}={\\frac {\\Lambda_{{m}} \\left( u_{{m}}+\\mu_{{m}}w_{{m}} \\right) \n",
    "}{\\mu_{{m}} \\left( u_{{m}}+\\mu_{{m}}+\\theta_{{m}} \\right) }}\n",
    "\\end{eqnarray}\n",
    "$"
   ]
  },
  {
   "cell_type": "code",
   "execution_count": 22,
   "metadata": {},
   "outputs": [],
   "source": [
    "#DFE \n",
    "# susceptibles\n",
    "SfDFE = (p01*((1-u1)*p03 + p17))/(p03*(u3 + p03 + p17))\n",
    "SmDFE = (p02*((1-u2)*p04 + p18))/(p04*(u4 + p04 + p18))\n",
    "\n",
    "# vaccinated\n",
    "VfDFE = (p01*(u3 + p03*u1))/(p03*(u3 + p03 + p17))\n",
    "VmDFE = (p02*(u4 + p04*u2))/(p04*(u4 + p04 + p18))\n",
    "\n",
    "# total population\n",
    "NfDFE = SfDFE + VfDFE\n",
    "NmDFE = SmDFE + VmDFE"
   ]
  },
  {
   "cell_type": "markdown",
   "metadata": {},
   "source": [
    "The basic reproduction number is $R_0 = \\sqrt{R_1*R_2}$ where\n",
    "\\begin{eqnarray}\n",
    "R_1 = \\left(\\dfrac{\\beta_{A}^{m}}{k_{A}^{m}+\\mu_{m}} + \\dfrac{(1-q_{A}^{m})k_{A}^{m}\\beta_{I}^{m}}{(k_{A}^{m}+\\mu_{m})(k_{I}^{m}+\\mu_{m})}\\right)\\dfrac{S_{f}^{*}}{N_{m}^{*}},\\\\\n",
    "R_2 = \\left(\\dfrac{\\beta_{A}^{f}}{k_{A}^{f}+\\mu_{f}} + \\dfrac{(1-q_{A}^{f})k_{A}^{f}\\beta_{I}^{f}}{(k_{A}^{f}+\\mu_{f})(k_{I}^{f}+\\mu_{f})}\\right)\\dfrac{S_{m}^{*}}{N_{f}^{*}},\\\\\n",
    "\\end{eqnarray}"
   ]
  },
  {
   "cell_type": "code",
   "execution_count": 23,
   "metadata": {},
   "outputs": [
    {
     "name": "stdout",
     "output_type": "stream",
     "text": [
      "The basic reproduction number is 2.7877821596463064\n"
     ]
    }
   ],
   "source": [
    "# R0\n",
    "# Let us define\n",
    "R1 = (p22/(p08 + p04) + (1-p06)*p08*p24/((p08 + p04)*(p12 + p04)) )*(SfDFE/NmDFE)\n",
    "\n",
    "R2 = (p21/(p07 + p03) + (1-p05)*p07*p23/((p07 + p03)*(p11 + p03)) )*(SmDFE/NfDFE)\n",
    "\n",
    "#then R0 is\n",
    "R0 = np.sqrt(R1*R2)\n",
    "print(\"The basic reproduction number is\", R0)"
   ]
  },
  {
   "cell_type": "code",
   "execution_count": null,
   "metadata": {},
   "outputs": [],
   "source": []
  }
 ],
 "metadata": {
  "kernelspec": {
   "display_name": "Python 3",
   "language": "python",
   "name": "python3"
  },
  "language_info": {
   "codemirror_mode": {
    "name": "ipython",
    "version": 3
   },
   "file_extension": ".py",
   "mimetype": "text/x-python",
   "name": "python",
   "nbconvert_exporter": "python",
   "pygments_lexer": "ipython3",
   "version": "3.6.9"
  }
 },
 "nbformat": 4,
 "nbformat_minor": 5
}
